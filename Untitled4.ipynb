{
  "nbformat": 4,
  "nbformat_minor": 0,
  "metadata": {
    "colab": {
      "provenance": [],
      "authorship_tag": "ABX9TyNFQjpa3FFc+eXA/hGv55jr",
      "include_colab_link": true
    },
    "kernelspec": {
      "name": "python3",
      "display_name": "Python 3"
    },
    "language_info": {
      "name": "python"
    }
  },
  "cells": [
    {
      "cell_type": "markdown",
      "metadata": {
        "id": "view-in-github",
        "colab_type": "text"
      },
      "source": [
        "<a href=\"https://colab.research.google.com/github/ari268/ari268/blob/main/Untitled4.ipynb\" target=\"_parent\"><img src=\"https://colab.research.google.com/assets/colab-badge.svg\" alt=\"Open In Colab\"/></a>"
      ]
    },
    {
      "cell_type": "code",
      "execution_count": null,
      "metadata": {
        "colab": {
          "base_uri": "https://localhost:8080/"
        },
        "id": "llw6GB1YLFUU",
        "outputId": "e0817e6b-5086-4c5d-d8d0-895f248c1491"
      },
      "outputs": [
        {
          "output_type": "stream",
          "name": "stdout",
          "text": [
            "     nome  idade   profissão\n",
            "1    gael     23  aposentado\n",
            "2    luis     34   arquiteto\n",
            "3  eliane     45    herdeiro\n",
            "4   lucas     25    porteiro\n"
          ]
        }
      ],
      "source": [
        "import pandas as pd\n",
        "dp=pd.DataFrame({'nome':[\"ariane\",\"gael\",\"luis\",\"eliane\"],\"idade\":[12,23,34,45]})\n",
        "dp['profissão']=[\"professor\",'aposentado',\"arquiteto\",\"herdeiro\"]\n",
        "dp.loc[len(dp)] =['lucas',25,'porteiro']\n",
        "resultado=dp.loc[dp[\"idade\"]>12]\n",
        "print(resultado)\n"
      ]
    }
  ]
}